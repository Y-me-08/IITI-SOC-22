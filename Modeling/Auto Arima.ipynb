{
 "cells": [
  {
   "cell_type": "code",
   "execution_count": 1,
   "id": "9862f76e",
   "metadata": {},
   "outputs": [],
   "source": [
    "import pandas as pd\n",
    "import numpy as np\n",
    "from pmdarima import auto_arima\n",
    "import matplotlib.pyplot as plt\n",
    "%matplotlib inline\n",
    "import seaborn as sns\n",
    "from datetime import datetime\n",
    "from datetime import timedelta"
   ]
  },
  {
   "cell_type": "code",
   "execution_count": 2,
   "id": "450da62f",
   "metadata": {},
   "outputs": [],
   "source": [
    "test_start_date = datetime(2012,8,3)\n",
    "def get_data(df, s, d):\n",
    "    df= df[(df.Store==s)& (df.Dept==d)]\n",
    "    df.drop(['Store', 'Dept', 'IsHoliday'], axis=1, inplace= True)\n",
    "    df['Date']= pd.to_datetime(df.Date)\n",
    "    df.set_index('Date', inplace=True)\n",
    "    df = df.asfreq(pd.infer_freq(df.index))\n",
    "    df_test=df.loc[test_start_date:]\n",
    "    df_train=df.loc[:test_start_date-timedelta(days=1)]\n",
    "    return (df_train, df_test, df)"
   ]
  },
  {
   "cell_type": "code",
   "execution_count": 25,
   "id": "3e98a6c5",
   "metadata": {},
   "outputs": [
    {
     "name": "stderr",
     "output_type": "stream",
     "text": [
      "C:\\Users\\Dell\\anaconda3\\lib\\site-packages\\pandas\\core\\frame.py:4308: SettingWithCopyWarning: \n",
      "A value is trying to be set on a copy of a slice from a DataFrame\n",
      "\n",
      "See the caveats in the documentation: https://pandas.pydata.org/pandas-docs/stable/user_guide/indexing.html#returning-a-view-versus-a-copy\n",
      "  return super().drop(\n",
      "<ipython-input-2-1dca09d1e2b9>:5: SettingWithCopyWarning: \n",
      "A value is trying to be set on a copy of a slice from a DataFrame.\n",
      "Try using .loc[row_indexer,col_indexer] = value instead\n",
      "\n",
      "See the caveats in the documentation: https://pandas.pydata.org/pandas-docs/stable/user_guide/indexing.html#returning-a-view-versus-a-copy\n",
      "  df['Date']= pd.to_datetime(df.Date)\n"
     ]
    }
   ],
   "source": [
    "df=pd.read_csv('train.csv')\n",
    "df_train, df_test, df = get_data(df, 45, 9)"
   ]
  },
  {
   "cell_type": "code",
   "execution_count": 16,
   "id": "d7285e90",
   "metadata": {},
   "outputs": [
    {
     "data": {
      "text/html": [
       "<div>\n",
       "<style scoped>\n",
       "    .dataframe tbody tr th:only-of-type {\n",
       "        vertical-align: middle;\n",
       "    }\n",
       "\n",
       "    .dataframe tbody tr th {\n",
       "        vertical-align: top;\n",
       "    }\n",
       "\n",
       "    .dataframe thead th {\n",
       "        text-align: right;\n",
       "    }\n",
       "</style>\n",
       "<table border=\"1\" class=\"dataframe\">\n",
       "  <thead>\n",
       "    <tr style=\"text-align: right;\">\n",
       "      <th></th>\n",
       "      <th>Weekly_Sales</th>\n",
       "    </tr>\n",
       "    <tr>\n",
       "      <th>Date</th>\n",
       "      <th></th>\n",
       "    </tr>\n",
       "  </thead>\n",
       "  <tbody>\n",
       "    <tr>\n",
       "      <th>2010-02-05</th>\n",
       "      <td>50605.27</td>\n",
       "    </tr>\n",
       "    <tr>\n",
       "      <th>2010-02-12</th>\n",
       "      <td>44682.74</td>\n",
       "    </tr>\n",
       "    <tr>\n",
       "      <th>2010-02-19</th>\n",
       "      <td>47928.89</td>\n",
       "    </tr>\n",
       "    <tr>\n",
       "      <th>2010-02-26</th>\n",
       "      <td>44292.87</td>\n",
       "    </tr>\n",
       "    <tr>\n",
       "      <th>2010-03-05</th>\n",
       "      <td>48397.98</td>\n",
       "    </tr>\n",
       "    <tr>\n",
       "      <th>...</th>\n",
       "      <td>...</td>\n",
       "    </tr>\n",
       "    <tr>\n",
       "      <th>2012-09-28</th>\n",
       "      <td>45784.76</td>\n",
       "    </tr>\n",
       "    <tr>\n",
       "      <th>2012-10-05</th>\n",
       "      <td>48577.08</td>\n",
       "    </tr>\n",
       "    <tr>\n",
       "      <th>2012-10-12</th>\n",
       "      <td>42112.67</td>\n",
       "    </tr>\n",
       "    <tr>\n",
       "      <th>2012-10-19</th>\n",
       "      <td>42354.72</td>\n",
       "    </tr>\n",
       "    <tr>\n",
       "      <th>2012-10-26</th>\n",
       "      <td>43134.88</td>\n",
       "    </tr>\n",
       "  </tbody>\n",
       "</table>\n",
       "<p>143 rows × 1 columns</p>\n",
       "</div>"
      ],
      "text/plain": [
       "            Weekly_Sales\n",
       "Date                    \n",
       "2010-02-05      50605.27\n",
       "2010-02-12      44682.74\n",
       "2010-02-19      47928.89\n",
       "2010-02-26      44292.87\n",
       "2010-03-05      48397.98\n",
       "...                  ...\n",
       "2012-09-28      45784.76\n",
       "2012-10-05      48577.08\n",
       "2012-10-12      42112.67\n",
       "2012-10-19      42354.72\n",
       "2012-10-26      43134.88\n",
       "\n",
       "[143 rows x 1 columns]"
      ]
     },
     "execution_count": 16,
     "metadata": {},
     "output_type": "execute_result"
    }
   ],
   "source": [
    "df"
   ]
  },
  {
   "cell_type": "code",
   "execution_count": 5,
   "id": "f72f936f",
   "metadata": {},
   "outputs": [
    {
     "data": {
      "text/html": [
       "<div>\n",
       "<style scoped>\n",
       "    .dataframe tbody tr th:only-of-type {\n",
       "        vertical-align: middle;\n",
       "    }\n",
       "\n",
       "    .dataframe tbody tr th {\n",
       "        vertical-align: top;\n",
       "    }\n",
       "\n",
       "    .dataframe thead th {\n",
       "        text-align: right;\n",
       "    }\n",
       "</style>\n",
       "<table border=\"1\" class=\"dataframe\">\n",
       "  <thead>\n",
       "    <tr style=\"text-align: right;\">\n",
       "      <th></th>\n",
       "      <th>Weekly_Sales</th>\n",
       "    </tr>\n",
       "    <tr>\n",
       "      <th>Date</th>\n",
       "      <th></th>\n",
       "    </tr>\n",
       "  </thead>\n",
       "  <tbody>\n",
       "    <tr>\n",
       "      <th>2010-02-05</th>\n",
       "      <td>24924.50</td>\n",
       "    </tr>\n",
       "    <tr>\n",
       "      <th>2010-02-12</th>\n",
       "      <td>46039.49</td>\n",
       "    </tr>\n",
       "    <tr>\n",
       "      <th>2010-02-19</th>\n",
       "      <td>41595.55</td>\n",
       "    </tr>\n",
       "    <tr>\n",
       "      <th>2010-02-26</th>\n",
       "      <td>19403.54</td>\n",
       "    </tr>\n",
       "    <tr>\n",
       "      <th>2010-03-05</th>\n",
       "      <td>21827.90</td>\n",
       "    </tr>\n",
       "    <tr>\n",
       "      <th>...</th>\n",
       "      <td>...</td>\n",
       "    </tr>\n",
       "    <tr>\n",
       "      <th>2012-06-29</th>\n",
       "      <td>15722.82</td>\n",
       "    </tr>\n",
       "    <tr>\n",
       "      <th>2012-07-06</th>\n",
       "      <td>17823.37</td>\n",
       "    </tr>\n",
       "    <tr>\n",
       "      <th>2012-07-13</th>\n",
       "      <td>16566.18</td>\n",
       "    </tr>\n",
       "    <tr>\n",
       "      <th>2012-07-20</th>\n",
       "      <td>16348.06</td>\n",
       "    </tr>\n",
       "    <tr>\n",
       "      <th>2012-07-27</th>\n",
       "      <td>15731.18</td>\n",
       "    </tr>\n",
       "  </tbody>\n",
       "</table>\n",
       "<p>130 rows × 1 columns</p>\n",
       "</div>"
      ],
      "text/plain": [
       "            Weekly_Sales\n",
       "Date                    \n",
       "2010-02-05      24924.50\n",
       "2010-02-12      46039.49\n",
       "2010-02-19      41595.55\n",
       "2010-02-26      19403.54\n",
       "2010-03-05      21827.90\n",
       "...                  ...\n",
       "2012-06-29      15722.82\n",
       "2012-07-06      17823.37\n",
       "2012-07-13      16566.18\n",
       "2012-07-20      16348.06\n",
       "2012-07-27      15731.18\n",
       "\n",
       "[130 rows x 1 columns]"
      ]
     },
     "execution_count": 5,
     "metadata": {},
     "output_type": "execute_result"
    }
   ],
   "source": [
    "df_train"
   ]
  },
  {
   "cell_type": "code",
   "execution_count": 6,
   "id": "34b07acf",
   "metadata": {},
   "outputs": [
    {
     "data": {
      "text/html": [
       "<div>\n",
       "<style scoped>\n",
       "    .dataframe tbody tr th:only-of-type {\n",
       "        vertical-align: middle;\n",
       "    }\n",
       "\n",
       "    .dataframe tbody tr th {\n",
       "        vertical-align: top;\n",
       "    }\n",
       "\n",
       "    .dataframe thead th {\n",
       "        text-align: right;\n",
       "    }\n",
       "</style>\n",
       "<table border=\"1\" class=\"dataframe\">\n",
       "  <thead>\n",
       "    <tr style=\"text-align: right;\">\n",
       "      <th></th>\n",
       "      <th>Weekly_Sales</th>\n",
       "    </tr>\n",
       "    <tr>\n",
       "      <th>Date</th>\n",
       "      <th></th>\n",
       "    </tr>\n",
       "  </thead>\n",
       "  <tbody>\n",
       "    <tr>\n",
       "      <th>2012-08-03</th>\n",
       "      <td>16628.31</td>\n",
       "    </tr>\n",
       "    <tr>\n",
       "      <th>2012-08-10</th>\n",
       "      <td>16119.92</td>\n",
       "    </tr>\n",
       "    <tr>\n",
       "      <th>2012-08-17</th>\n",
       "      <td>17330.70</td>\n",
       "    </tr>\n",
       "    <tr>\n",
       "      <th>2012-08-24</th>\n",
       "      <td>16286.40</td>\n",
       "    </tr>\n",
       "    <tr>\n",
       "      <th>2012-08-31</th>\n",
       "      <td>16680.24</td>\n",
       "    </tr>\n",
       "    <tr>\n",
       "      <th>2012-09-07</th>\n",
       "      <td>18322.37</td>\n",
       "    </tr>\n",
       "    <tr>\n",
       "      <th>2012-09-14</th>\n",
       "      <td>19616.22</td>\n",
       "    </tr>\n",
       "    <tr>\n",
       "      <th>2012-09-21</th>\n",
       "      <td>19251.50</td>\n",
       "    </tr>\n",
       "    <tr>\n",
       "      <th>2012-09-28</th>\n",
       "      <td>18947.81</td>\n",
       "    </tr>\n",
       "    <tr>\n",
       "      <th>2012-10-05</th>\n",
       "      <td>21904.47</td>\n",
       "    </tr>\n",
       "    <tr>\n",
       "      <th>2012-10-12</th>\n",
       "      <td>22764.01</td>\n",
       "    </tr>\n",
       "    <tr>\n",
       "      <th>2012-10-19</th>\n",
       "      <td>24185.27</td>\n",
       "    </tr>\n",
       "    <tr>\n",
       "      <th>2012-10-26</th>\n",
       "      <td>27390.81</td>\n",
       "    </tr>\n",
       "  </tbody>\n",
       "</table>\n",
       "</div>"
      ],
      "text/plain": [
       "            Weekly_Sales\n",
       "Date                    \n",
       "2012-08-03      16628.31\n",
       "2012-08-10      16119.92\n",
       "2012-08-17      17330.70\n",
       "2012-08-24      16286.40\n",
       "2012-08-31      16680.24\n",
       "2012-09-07      18322.37\n",
       "2012-09-14      19616.22\n",
       "2012-09-21      19251.50\n",
       "2012-09-28      18947.81\n",
       "2012-10-05      21904.47\n",
       "2012-10-12      22764.01\n",
       "2012-10-19      24185.27\n",
       "2012-10-26      27390.81"
      ]
     },
     "execution_count": 6,
     "metadata": {},
     "output_type": "execute_result"
    }
   ],
   "source": [
    "df_test"
   ]
  },
  {
   "cell_type": "code",
   "execution_count": 26,
   "id": "29430b77",
   "metadata": {},
   "outputs": [
    {
     "data": {
      "text/plain": [
       "[<matplotlib.lines.Line2D at 0x2f8a7b485b0>]"
      ]
     },
     "execution_count": 26,
     "metadata": {},
     "output_type": "execute_result"
    },
    {
     "data": {
      "image/png": "[encoded data removed]",
      "text/plain": [
       "<Figure size 1080x288 with 1 Axes>"
      ]
     },
     "metadata": {
      "needs_background": "light"
     },
     "output_type": "display_data"
    }
   ],
   "source": [
    "plt.figure(figsize=(15,4))\n",
    "plt.plot(df)"
   ]
  },
  {
   "cell_type": "code",
   "execution_count": null,
   "id": "8781e052",
   "metadata": {},
   "outputs": [
    {
     "name": "stdout",
     "output_type": "stream",
     "text": [
      "Performing stepwise search to minimize aic\n",
      " ARIMA(2,0,2)(0,0,0)[52] intercept   : AIC=2496.601, Time=0.16 sec\n",
      " ARIMA(0,0,0)(0,0,0)[52] intercept   : AIC=2592.530, Time=0.03 sec\n",
      " ARIMA(1,0,0)(1,0,0)[52] intercept   : AIC=2478.524, Time=2.06 sec\n",
      " ARIMA(0,0,1)(0,0,1)[52] intercept   : AIC=inf, Time=9.32 sec\n",
      " ARIMA(0,0,0)(0,0,0)[52]             : AIC=2895.292, Time=0.01 sec\n",
      " ARIMA(1,0,0)(0,0,0)[52] intercept   : AIC=2495.521, Time=0.04 sec\n",
      " ARIMA(1,0,0)(2,0,0)[52] intercept   : AIC=2480.310, Time=17.87 sec\n",
      " ARIMA(1,0,0)(1,0,1)[52] intercept   : AIC=2478.402, Time=5.49 sec\n",
      " ARIMA(1,0,0)(0,0,1)[52] intercept   : AIC=inf, Time=9.16 sec\n",
      " ARIMA(1,0,0)(2,0,1)[52] intercept   : AIC=inf, Time=35.69 sec\n",
      " ARIMA(1,0,0)(1,0,2)[52] intercept   : AIC=2478.245, Time=27.56 sec\n",
      " ARIMA(1,0,0)(0,0,2)[52] intercept   : AIC=inf, Time=91.45 sec\n",
      " ARIMA(1,0,0)(2,0,2)[52] intercept   : AIC=inf, Time=128.75 sec\n",
      " ARIMA(1,0,0)(1,0,3)[52] intercept   : AIC=2479.668, Time=72.31 sec\n",
      " ARIMA(1,0,0)(0,0,3)[52] intercept   : AIC=2478.789, Time=49.41 sec\n",
      " ARIMA(1,0,0)(2,0,3)[52] intercept   : AIC=inf, Time=259.87 sec\n",
      " ARIMA(0,0,0)(1,0,2)[52] intercept   : AIC=2559.571, Time=16.67 sec\n",
      " ARIMA(2,0,0)(1,0,2)[52] intercept   : AIC=2475.707, Time=28.68 sec\n",
      " ARIMA(2,0,0)(0,0,2)[52] intercept   : AIC=inf, Time=69.81 sec\n",
      " ARIMA(2,0,0)(1,0,1)[52] intercept   : AIC=2476.025, Time=7.55 sec\n",
      " ARIMA(2,0,0)(2,0,2)[52] intercept   : AIC=inf, Time=65.21 sec\n",
      " ARIMA(2,0,0)(1,0,3)[52] intercept   : AIC=inf, Time=195.45 sec\n",
      " ARIMA(2,0,0)(0,0,1)[52] intercept   : AIC=inf, Time=13.49 sec\n",
      " ARIMA(2,0,0)(0,0,3)[52] intercept   : AIC=inf, Time=161.93 sec\n",
      " ARIMA(2,0,0)(2,0,1)[52] intercept   : AIC=inf, Time=50.53 sec\n"
     ]
    }
   ],
   "source": [
    " Arima_model=auto_arima(df_train, start_p=2, start_q=2, max_p=8, max_q=8, start_P=0, start_Q=0, max_P=8, max_Q=8, m=52,d=0, seasonal=True, trace=True,  error_action='warn', suppress_warnings=True, random_state = 20, n_fits=30)"
   ]
  },
  {
   "cell_type": "code",
   "execution_count": null,
   "id": "525864a0",
   "metadata": {
    "scrolled": true
   },
   "outputs": [],
   "source": [
    "Arima_model.summary()"
   ]
  },
  {
   "cell_type": "code",
   "execution_count": 20,
   "id": "6e8d8f5a",
   "metadata": {},
   "outputs": [],
   "source": [
    "model_fit = Arima_model.fit(df_train)"
   ]
  },
  {
   "cell_type": "code",
   "execution_count": 21,
   "id": "d202a67a",
   "metadata": {},
   "outputs": [],
   "source": [
    "forecast = model_fit.predict(n_periods=len(df_test))\n",
    "forecast = pd.DataFrame(forecast,index = df_test.index,columns=['Prediction'])"
   ]
  },
  {
   "cell_type": "code",
   "execution_count": 22,
   "id": "f1a2d0c9",
   "metadata": {},
   "outputs": [],
   "source": [
    "residuals= pd.concat([df_test, forecast], axis=1)"
   ]
  },
  {
   "cell_type": "code",
   "execution_count": 23,
   "id": "4fd38814",
   "metadata": {},
   "outputs": [],
   "source": [
    "residuals['error']= residuals['Weekly_Sales']-residuals['Prediction']\n",
    "residuals.drop(['Weekly_Sales', 'Prediction'], axis=1, inplace=True)"
   ]
  },
  {
   "cell_type": "code",
   "execution_count": null,
   "id": "11e3a0a1",
   "metadata": {},
   "outputs": [],
   "source": [
    "residuals"
   ]
  },
  {
   "cell_type": "code",
   "execution_count": 24,
   "id": "a23e791c",
   "metadata": {},
   "outputs": [
    {
     "data": {
      "text/plain": [
       "<matplotlib.legend.Legend at 0x2f8fc43fdc0>"
      ]
     },
     "execution_count": 24,
     "metadata": {},
     "output_type": "execute_result"
    },
    {
     "data": {
      "image/png": "[encoded data removed]",
      "text/plain": [
       "<Figure size 1080x288 with 1 Axes>"
      ]
     },
     "metadata": {
      "needs_background": "light"
     },
     "output_type": "display_data"
    }
   ],
   "source": [
    "plt.figure(figsize=(15,4))\n",
    "plt.plot(df, label='Train')\n",
    "#plt.plot(df_test, label='Valid')\n",
    "plt.plot(forecast, label='Prediction')\n",
    "plt.legend()"
   ]
  },
  {
   "cell_type": "code",
   "execution_count": null,
   "id": "352a9fdd",
   "metadata": {},
   "outputs": [],
   "source": [
    "print('Root Mean Squared Error:', np.sqrt(np.mean(residuals**2)))"
   ]
  },
  {
   "cell_type": "code",
   "execution_count": null,
   "id": "f9566cb0",
   "metadata": {},
   "outputs": [],
   "source": [
    "df_train"
   ]
  },
  {
   "cell_type": "code",
   "execution_count": null,
   "id": "183b7af1",
   "metadata": {},
   "outputs": [],
   "source": [
    "rolling_forecast=df_test.copy()\n",
    "rolling_forecast[\"Prediction\"]= np.nan"
   ]
  },
  {
   "cell_type": "code",
   "execution_count": null,
   "id": "68b0c1c7",
   "metadata": {},
   "outputs": [],
   "source": [
    "rolling_forecast"
   ]
  },
  {
   "cell_type": "code",
   "execution_count": null,
   "id": "1e3edfce",
   "metadata": {},
   "outputs": [],
   "source": [
    "for train_end in df_test.index:\n",
    "    df_train_rolling= df[:train_end-timedelta(days=7)]\n",
    "    model = Arima_model.fit(df_train_rolling)\n",
    "    pred = model.predict(n_periods=1)\n",
    "    rolling_forecast['Prediction'][train_end] = pred"
   ]
  },
  {
   "cell_type": "code",
   "execution_count": null,
   "id": "a484b51a",
   "metadata": {},
   "outputs": [],
   "source": [
    "rolling_forecast"
   ]
  },
  {
   "cell_type": "code",
   "execution_count": null,
   "id": "61739ff7",
   "metadata": {},
   "outputs": [],
   "source": [
    "rolling_forecast.drop('Weekly_Sales', axis=1, inplace=True)"
   ]
  },
  {
   "cell_type": "code",
   "execution_count": null,
   "id": "d4ccc709",
   "metadata": {},
   "outputs": [],
   "source": [
    "rolling_residuals= rolling_forecast.copy()"
   ]
  },
  {
   "cell_type": "code",
   "execution_count": null,
   "id": "fc5be9d4",
   "metadata": {},
   "outputs": [],
   "source": [
    "rolling_residuals['error']=rolling_residuals.Weekly_Sales - rolling_residuals.Prediction\n",
    "rolling_residuals.drop(['Weekly_Sales', 'Prediction'], axis=1, inplace=True)"
   ]
  },
  {
   "cell_type": "code",
   "execution_count": null,
   "id": "dc9c3f47",
   "metadata": {},
   "outputs": [],
   "source": [
    "plt.figure(figsize=(15,4))\n",
    "plt.plot(df, label='Train')\n",
    "#plt.plot(df_test, label='Valid')\n",
    "plt.plot(rolling_forecast, label='Prediction')\n",
    "plt.legend()"
   ]
  },
  {
   "cell_type": "code",
   "execution_count": null,
   "id": "bf667117",
   "metadata": {},
   "outputs": [],
   "source": [
    "print('Root Mean Squared Error:', np.sqrt(np.mean(rolling_residuals**2)))"
   ]
  },
  {
   "cell_type": "code",
   "execution_count": null,
   "id": "13b30dbc",
   "metadata": {},
   "outputs": [],
   "source": [
    "#Without Rolling forecast\n",
    "print('Mean Absolute Percent Error:', round(np.mean(abs(residuals.error/df_test.Weekly_Sales)),4))"
   ]
  },
  {
   "cell_type": "code",
   "execution_count": null,
   "id": "b9f26116",
   "metadata": {},
   "outputs": [],
   "source": [
    "print('Mean Absolute Percent Error:', round(np.mean(abs(rolling_residuals.error/df_test.Weekly_Sales)),4))"
   ]
  }
 ],
 "metadata": {
  "kernelspec": {
   "display_name": "Python 3",
   "language": "python",
   "name": "python3"
  },
  "language_info": {
   "codemirror_mode": {
    "name": "ipython",
    "version": 3
   },
   "file_extension": ".py",
   "mimetype": "text/x-python",
   "name": "python",
   "nbconvert_exporter": "python",
   "pygments_lexer": "ipython3",
   "version": "3.8.8"
  }
 },
 "nbformat": 4,
 "nbformat_minor": 5
}
